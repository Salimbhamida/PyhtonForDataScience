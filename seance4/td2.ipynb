{
 "cells": [
  {
   "cell_type": "markdown",
   "metadata": {},
   "source": [
    "<h3>TD n°2 : Concepts fondamentaux en Programmation Python</h3>"
   ]
  },
  {
   "cell_type": "markdown",
   "metadata": {},
   "source": [
    "<span style=\"color:blue;\">\n",
    "<b>Exercice 1:</b>\n",
    "\n",
    "L'objectif de cet exercice est de maitriser le concept de datetime.\n",
    "\n",
    "On veut saisir les noms ainsi que les dates de naissance de plusieurs personnes. Puis, on va leurs faire des simples statistiques.\n",
    "</span>"
   ]
  },
  {
   "cell_type": "markdown",
   "metadata": {},
   "source": [
    "1. Déclarer un dictionnaire vide appelé <font color=\"red\">dates_naissance</font>"
   ]
  },
  {
   "cell_type": "code",
   "execution_count": 101,
   "metadata": {},
   "outputs": [],
   "source": [
    "dates_naissance=[]"
   ]
  },
  {
   "cell_type": "markdown",
   "metadata": {},
   "source": [
    "2. Définir une fonction <font color=\"red\">saisir_personne</font> qui demande à l'utilisateur de saisir son nom ainsi que sa date de naissance. Puis, elle pose la question s'il veut continuer ou non. Elle retourne 3 valeurs :\n",
    "- valeur booléenne : Vrai pour continuer la saisie ou Faux pour arrêter\n",
    "- nom de la personne\n",
    "- date de naissance\n",
    "\n",
    "Note : la date de naissance est de format 'jj-mm-yyyy'"
   ]
  },
  {
   "cell_type": "code",
   "execution_count": 102,
   "metadata": {},
   "outputs": [],
   "source": [
    "from datetime import datetime\n",
    "def saisir_personne():\n",
    "    nom = input(\"Entrez le nom de la personne: \")\n",
    "    test=False\n",
    "    while not test:\n",
    "        date_naissance = input(\"Entrez la date de naissance de la personne (JJ-MM-AAAA): \")\n",
    "        try:\n",
    "            date_naissance = datetime.strptime(date_naissance, \"%d-%m-%Y\")\n",
    "            test=True\n",
    "        except:\n",
    "            print(\"La date n'est pas valide\")\n",
    "      \n",
    "        \n",
    "    \n",
    "    continuer = input(\"Voulez-vous continuer la saisie ? (Oui/Non): \")\n",
    "    \n",
    "    if continuer.lower() == \"oui\":\n",
    "        return True, nom, date_naissance\n",
    "    else:\n",
    "        return False, nom, date_naissance\n",
    "  "
   ]
  },
  {
   "cell_type": "markdown",
   "metadata": {},
   "source": [
    "3. Utiliser la fonction  <font color=\"red\">saisir_personne</font> pour saisir les noms et dates de naissance de plusieurs personnes jusqu'à ce que l'utilisateur arrête la saisie."
   ]
  },
  {
   "cell_type": "code",
   "execution_count": 103,
   "metadata": {},
   "outputs": [
    {
     "data": {
      "text/plain": [
       "[]"
      ]
     },
     "execution_count": 103,
     "metadata": {},
     "output_type": "execute_result"
    }
   ],
   "source": [
    "dates_naissance.clear()\n",
    "dates_naissance"
   ]
  },
  {
   "cell_type": "code",
   "execution_count": 104,
   "metadata": {},
   "outputs": [
    {
     "name": "stdout",
     "output_type": "stream",
     "text": [
      "La date n'est pas valide\n",
      "La date n'est pas valide\n",
      "La date n'est pas valide\n",
      "La date n'est pas valide\n",
      "La date n'est pas valide\n",
      "La date n'est pas valide\n",
      "La date n'est pas valide\n"
     ]
    }
   ],
   "source": [
    "continuer=True\n",
    "while continuer:\n",
    "    continuer, nom, date_naissance = saisir_personne()\n",
    "    dates_naissance.append((nom, date_naissance))\n",
    "    if not continuer:\n",
    "        break\n"
   ]
  },
  {
   "cell_type": "code",
   "execution_count": 105,
   "metadata": {},
   "outputs": [
    {
     "data": {
      "text/plain": [
       "2022"
      ]
     },
     "execution_count": 105,
     "metadata": {},
     "output_type": "execute_result"
    }
   ],
   "source": [
    "dates_naissance[0][1].year"
   ]
  },
  {
   "cell_type": "markdown",
   "metadata": {},
   "source": [
    "4. Déterminer le nom de la personne la plus jeune ainsi que la plus agée."
   ]
  },
  {
   "cell_type": "code",
   "execution_count": 106,
   "metadata": {},
   "outputs": [
    {
     "name": "stdout",
     "output_type": "stream",
     "text": [
      "Youngest person: \n",
      "Oldest person: \n"
     ]
    }
   ],
   "source": [
    "youngest_person = min(dates_naissance, key=lambda x: x[1].year)\n",
    "oldest_person = max(dates_naissance, key=lambda x: x[1].year)\n",
    "print(\"Youngest person:\", youngest_person[0])\n",
    "print(\"Oldest person:\", oldest_person[0])\n"
   ]
  },
  {
   "cell_type": "markdown",
   "metadata": {},
   "source": [
    "5. Définir une fonction  <font color=\"red\">calculer_age</font> qui calcule l'âge d'une personne étant donné la date de naissance."
   ]
  },
  {
   "cell_type": "code",
   "execution_count": 107,
   "metadata": {},
   "outputs": [],
   "source": [
    "def calculer_age(date_naissance):\n",
    "    return datetime.now().year - date_naissance.year"
   ]
  },
  {
   "cell_type": "markdown",
   "metadata": {},
   "source": [
    "6. Calculer les âges de toutes les personnes et les mettre dans un dictionnaire  <font color=\"red\">ages</font>."
   ]
  },
  {
   "cell_type": "code",
   "execution_count": 108,
   "metadata": {},
   "outputs": [
    {
     "data": {
      "text/plain": [
       "[2]"
      ]
     },
     "execution_count": 108,
     "metadata": {},
     "output_type": "execute_result"
    }
   ],
   "source": [
    "ages=[]\n",
    "for i in range(len(dates_naissance)):\n",
    "    ages.append(calculer_age(dates_naissance[i][1]))\n",
    "\n",
    "ages    "
   ]
  },
  {
   "cell_type": "markdown",
   "metadata": {},
   "source": [
    "7. Déterminer l'âge moyenne des personnes.\n",
    "\n",
    "Puis, dire combien de personnes sont au-dessous et au-dessus de l'âge moyenne."
   ]
  },
  {
   "cell_type": "code",
   "execution_count": 109,
   "metadata": {},
   "outputs": [
    {
     "data": {
      "text/plain": [
       "2.0"
      ]
     },
     "execution_count": 109,
     "metadata": {},
     "output_type": "execute_result"
    }
   ],
   "source": [
    "age_moy=sum(ages)/len(ages)\n",
    "age_moy"
   ]
  },
  {
   "cell_type": "markdown",
   "metadata": {},
   "source": [
    "<span style=\"color:blue;\">\n",
    "<b>Exercice 2:</b>\n",
    "\n",
    "<u>Objectifs:</u>\n",
    "- Savoir définir une classe en Python.\n",
    "- Surcharger des méthodes prédéfinies : `__init__` , `__str__` et des opérateurs comme `__eq__`\n",
    "\n",
    "<u>Travaul demandé:</u>\n",
    "- On veut définir une classe `Ville` qui représente une ville métropolitaine. \n",
    "- Une ville est caractérisée par :\n",
    "    - nom de la ville\n",
    "    - indice de pollution : indice entre 0 et 100 qui reflète le degré de pollution dans la ville (0 très bon et 100 très mauvais).\n",
    "    - population : nombre des résidents dans la ville (en millions de personnes)\n",
    "\n",
    "<u>Questions :</u>\n",
    "</span>"
   ]
  },
  {
   "cell_type": "markdown",
   "metadata": {},
   "source": [
    "1. Dans cette classe `Ville`, définir la méthode suivante :\n",
    "- `__init__` : \n",
    "    - C'est le constructeur qui initialise les informations d'un objet `Ville`\n",
    "    - Il est appelé systématiquement lors de la crétaion d'un objet de la classe `Ville`"
   ]
  },
  {
   "cell_type": "code",
   "execution_count": 110,
   "metadata": {},
   "outputs": [],
   "source": [
    "class Ville:\n",
    "    def __init__(self,nom,indice,population):\n",
    "        self.nom=nom\n",
    "        self.indice=indice\n",
    "        self.population=population"
   ]
  },
  {
   "cell_type": "markdown",
   "metadata": {},
   "source": [
    "<u>Observation et Interprétation</u>\n",
    "\n",
    "<br> Après avoir défini le constructeur, exécuter les bouts de codes ci-dessous, et interpréter."
   ]
  },
  {
   "cell_type": "markdown",
   "metadata": {},
   "source": [
    "Convertir un objet ville en chaine de caractères en utilisant la fonction `str()`"
   ]
  },
  {
   "cell_type": "code",
   "execution_count": 111,
   "metadata": {},
   "outputs": [],
   "source": [
    "# Création d'un objet de la classe Ville\n",
    "v1=Ville('Tokyo',20,10.560)\n"
   ]
  },
  {
   "cell_type": "code",
   "execution_count": 112,
   "metadata": {},
   "outputs": [
    {
     "data": {
      "text/plain": [
       "'<__main__.Ville object at 0x00000230CFF17B20>'"
      ]
     },
     "execution_count": 112,
     "metadata": {},
     "output_type": "execute_result"
    }
   ],
   "source": [
    "# Convertir une ville en str\n",
    "str(v1)"
   ]
  },
  {
   "cell_type": "markdown",
   "metadata": {},
   "source": [
    "Afficher les informations d'une ville en utilisant la fonction `print()`"
   ]
  },
  {
   "cell_type": "code",
   "execution_count": 113,
   "metadata": {},
   "outputs": [
    {
     "name": "stdout",
     "output_type": "stream",
     "text": [
      "le nom de ville est Tokyo et son indice est 20 et sa population est 10.56\n"
     ]
    }
   ],
   "source": [
    "print(f'le nom de ville est {v1.nom} et son indice est {v1.indice} et sa population est {v1.population}')"
   ]
  },
  {
   "cell_type": "markdown",
   "metadata": {},
   "source": [
    "Comparer deux objets ayant les mêmes informations de ville"
   ]
  },
  {
   "cell_type": "code",
   "execution_count": 114,
   "metadata": {},
   "outputs": [],
   "source": [
    "# Créer un deuxième objet de la classe Ville représentant les mêmes informations de la ville\n",
    "v2=Ville('Tokyo',20,10.560)"
   ]
  },
  {
   "cell_type": "code",
   "execution_count": 115,
   "metadata": {},
   "outputs": [
    {
     "data": {
      "text/plain": [
       "False"
      ]
     },
     "execution_count": 115,
     "metadata": {},
     "output_type": "execute_result"
    }
   ],
   "source": [
    "# Comparer les deux objets v1 et v2\n",
    "v1==v2"
   ]
  },
  {
   "cell_type": "markdown",
   "metadata": {},
   "source": [
    "Interpréter ?"
   ]
  },
  {
   "cell_type": "markdown",
   "metadata": {},
   "source": [
    "2. Dans la classe `Ville`, ajouter la méthode :\n",
    "- `__str__` :  \n",
    "    - Il s'agit d'une méthode prédéfinie en Python qu'on va surcharger. \n",
    "    - Elle n'a pas d'arguments.\n",
    "    - Elle retourne uen chaine de caractères. Dans notre cas, la chaine retournée est une description de la ville en utilisant les attributs de la ville.\n",
    "    - Elle est appelée systémtiquement par la fonction `str()` ou `print()` lorsqu'on leurs passe un objet de la classe."
   ]
  },
  {
   "cell_type": "code",
   "execution_count": 116,
   "metadata": {},
   "outputs": [],
   "source": [
    "class Ville:\n",
    "    def __init__(self,nom,indice,population):\n",
    "        self.nom=nom\n",
    "        self.indice=indice\n",
    "        self.population=population\n",
    "    def __str__(self):\n",
    "        \n",
    "        return f'le nom de ville est {self.nom} et son indice est {self.indice} et sa population est {self.population}'\n",
    "        "
   ]
  },
  {
   "cell_type": "code",
   "execution_count": 117,
   "metadata": {},
   "outputs": [],
   "source": [
    "v1=Ville('Tokyo',20,10.560)"
   ]
  },
  {
   "cell_type": "code",
   "execution_count": 118,
   "metadata": {},
   "outputs": [
    {
     "data": {
      "text/plain": [
       "'le nom de ville est Tokyo et son indice est 20 et sa population est 10.56'"
      ]
     },
     "execution_count": 118,
     "metadata": {},
     "output_type": "execute_result"
    }
   ],
   "source": [
    "str(v1)"
   ]
  },
  {
   "cell_type": "code",
   "execution_count": 119,
   "metadata": {},
   "outputs": [
    {
     "name": "stdout",
     "output_type": "stream",
     "text": [
      "le nom de ville est Tokyo et son indice est 20 et sa population est 10.56 est la capitale de Japan.\n"
     ]
    }
   ],
   "source": [
    "print(v1,'est la capitale de Japan.')"
   ]
  },
  {
   "cell_type": "markdown",
   "metadata": {},
   "source": [
    "3. Dans la classe Ville, ajouter la méthode :\n",
    "- `__eq__`(self, ville) :\n",
    "    - Il s'agit d'une méthode prédéfinie en Python qu'on va surcharger.\n",
    "    - Elle a un seul argument. Dans notre cas, il s'agit d'une autre ville.\n",
    "    - Elle retourne une valeur booléenne. (True si les deux villes sont égaux sinon False).\n",
    "    - Elle permet de comparer si une ville (self) est égale à une autre (l'argument ville).\n",
    "    - Elle est appelée systématiquement si on utilise l'oéprateur `==`\n"
   ]
  },
  {
   "cell_type": "code",
   "execution_count": 120,
   "metadata": {},
   "outputs": [],
   "source": [
    "class Ville:\n",
    "    def __init__(self,nom,indice,population):\n",
    "        self.nom=nom\n",
    "        self.indice=indice\n",
    "        self.population=population\n",
    "    def __str__(self):\n",
    "        \n",
    "        return f'le nom de ville est {self.nom} et son indice est {self.indice} et sa population est {self.population}'\n",
    "    def __eq__(self, ville) -> bool :\n",
    "        return self.nom==ville.nom and self.indice==ville.indice and self.population==ville.population"
   ]
  },
  {
   "cell_type": "code",
   "execution_count": 121,
   "metadata": {},
   "outputs": [
    {
     "data": {
      "text/plain": [
       "False"
      ]
     },
     "execution_count": 121,
     "metadata": {},
     "output_type": "execute_result"
    }
   ],
   "source": [
    "v1=Ville('TOKYO',20,10.560)\n",
    "v2=Ville('tokyo',20,10.560)\n",
    "v1==v2"
   ]
  },
  {
   "cell_type": "code",
   "execution_count": 122,
   "metadata": {},
   "outputs": [
    {
     "data": {
      "text/plain": [
       "False"
      ]
     },
     "execution_count": 122,
     "metadata": {},
     "output_type": "execute_result"
    }
   ],
   "source": [
    "v1=Ville('TOKYO',20,10.5)\n",
    "v2=Ville('tokyo',20,10.560)\n",
    "v1==v2"
   ]
  },
  {
   "cell_type": "markdown",
   "metadata": {},
   "source": [
    "4. Essayer de surcharger d'autres opérateurs de coparaison en utilisant les fonctions prédéfinies : `__lt__`, `__le__`, `__gt__`, `__ge__`"
   ]
  },
  {
   "cell_type": "code",
   "execution_count": 153,
   "metadata": {},
   "outputs": [],
   "source": [
    "class Ville:\n",
    "    def __init__(self,nom,indice,population):\n",
    "        self.nom=nom\n",
    "        self.indice=indice\n",
    "        self.population=population\n",
    "    def __str__(self):\n",
    "        return f'le nom de ville est {self.nom} et son indice est {self.indice} et sa population est {self.population}'\n",
    "    def __eq__(self, autreVille) -> bool :\n",
    "        return self.nom==ville.nom and self.indice==ville.indice and self.population==ville.population\n",
    "    def __lt__ (self, autreVille):\n",
    "        return self.population<autreVille.population\n",
    "    def __le__ (self, autreVille):\n",
    "        return self.population<=autreVille.population\n",
    "    def __gt__(self, autreVille):\n",
    "        return self.population>autreVille.population\n",
    "    def __ge__ (self, autreVille):\n",
    "        return self.population>=autreVille.population  "
   ]
  },
  {
   "cell_type": "markdown",
   "metadata": {},
   "source": [
    "<span style=\"color:blue;\">\n",
    "<b>Exercice 3:</b>\n",
    "\n",
    "<u>Objectifs:</u>\n",
    "- Définir une classe `Villes` qui représente une `collection` de villes.\n",
    "\n",
    "\n",
    "<u>Travail demandé:</u>\n",
    "- On veut étudier la pollution et la population des villes métropolitaines : London, Paris, Tokyo et Bejing."
   ]
  },
  {
   "cell_type": "code",
   "execution_count": 124,
   "metadata": {},
   "outputs": [
    {
     "name": "stdout",
     "output_type": "stream",
     "text": [
      "False\n"
     ]
    }
   ],
   "source": [
    "v1=Ville('TOKYO',20,10.560)\n",
    "v2=Ville('TUNISI',20,4.000)\n",
    "print(v1<v2)"
   ]
  },
  {
   "cell_type": "markdown",
   "metadata": {},
   "source": [
    "1. Dans cette classe `Villes`, définir la méthode suivante :\n",
    "- `__init__` : \n",
    "    - C'est le constructeur qui initialise une liste des objets de type `Ville`.\n",
    "    - Cette liste est notée `liste` et elle est intialisée comme vide.\n",
    "    - Le constructeur est appelé systématiquement lors de la crétaion d'un objet de la classe `Villes`"
   ]
  },
  {
   "cell_type": "code",
   "execution_count": 125,
   "metadata": {},
   "outputs": [],
   "source": [
    "class Villes:\n",
    "    def __init__(self):\n",
    "        self.liste=[]"
   ]
  },
  {
   "cell_type": "code",
   "execution_count": 126,
   "metadata": {},
   "outputs": [],
   "source": [
    "villes=Villes()"
   ]
  },
  {
   "cell_type": "markdown",
   "metadata": {},
   "source": [
    "2. Dans la classe `Villes`, ajouter la méthode:\n",
    "- `__len__()` :\n",
    "    - Elle ne prend pas d'argument\n",
    "    - Elle retourne la longueur de la liste des villes.\n",
    "    - Elle est appelée systémtaiquement par `len()`lorsqu'on lui passe un objet de type `Villes`."
   ]
  },
  {
   "cell_type": "code",
   "execution_count": 127,
   "metadata": {},
   "outputs": [],
   "source": [
    "class Villes:\n",
    "    def __init__(self):\n",
    "        self.liste=[]\n",
    "    def __len__(self):\n",
    "        return len(self.liste)"
   ]
  },
  {
   "cell_type": "code",
   "execution_count": 128,
   "metadata": {},
   "outputs": [],
   "source": [
    "# Créer une collection vide de villes\n",
    "villes=Villes()"
   ]
  },
  {
   "cell_type": "code",
   "execution_count": 129,
   "metadata": {},
   "outputs": [
    {
     "data": {
      "text/plain": [
       "0"
      ]
     },
     "execution_count": 129,
     "metadata": {},
     "output_type": "execute_result"
    }
   ],
   "source": [
    "# Appeler la fonction len() et lui passer en argument la collection de villes\n",
    "len(villes)"
   ]
  },
  {
   "cell_type": "markdown",
   "metadata": {},
   "source": [
    "3. Dans la classe `Villes`, ajouter la méthode :\n",
    "- `__iadd__` :\n",
    "    - Cette méthode représente l'opérateur `+=` qu'on veut surcharger\n",
    "    <br>-> Exemple: \n",
    "        - Soit `villes` objet de type `Villes`\n",
    "        - Soit `ville` objet de type `Ville`\n",
    "        - L'opération `villes += ville` est équivalente à `villes = villes.__iadd__(ville)`\n",
    "    - Elle prend comme argument un objet de type `Ville`\n",
    "    - Elle retourne `self`\n",
    "    - Elle ajoute l'objet en argument dans  la liste d'objet `liste`"
   ]
  },
  {
   "cell_type": "code",
   "execution_count": 130,
   "metadata": {},
   "outputs": [],
   "source": [
    "class Villes:\n",
    "    def __init__(self):\n",
    "        self.liste=[]\n",
    "    def __len__(self):\n",
    "        return len(self.liste)\n",
    "    def __iadd__(self, autre_ville):\n",
    "        self.liste.append(autre_ville)\n",
    "        return self"
   ]
  },
  {
   "cell_type": "code",
   "execution_count": 131,
   "metadata": {},
   "outputs": [],
   "source": [
    "# Créer une collection vide de villes\n",
    "villes=Villes()"
   ]
  },
  {
   "cell_type": "code",
   "execution_count": 132,
   "metadata": {},
   "outputs": [
    {
     "data": {
      "text/plain": [
       "0"
      ]
     },
     "execution_count": 132,
     "metadata": {},
     "output_type": "execute_result"
    }
   ],
   "source": [
    "# longueur de la collection des villes\n",
    "len(villes)"
   ]
  },
  {
   "cell_type": "code",
   "execution_count": 133,
   "metadata": {},
   "outputs": [],
   "source": [
    "# Ajouter une ville à la colelction\n",
    "v1 = Ville('Tokyo',20,13)\n",
    "villes += v1"
   ]
  },
  {
   "cell_type": "code",
   "execution_count": 134,
   "metadata": {},
   "outputs": [
    {
     "data": {
      "text/plain": [
       "1"
      ]
     },
     "execution_count": 134,
     "metadata": {},
     "output_type": "execute_result"
    }
   ],
   "source": [
    "# longueur de la collection des villes\n",
    "len(villes)"
   ]
  },
  {
   "cell_type": "markdown",
   "metadata": {},
   "source": [
    "4. Dans la classe `Villes`, ajouter la méthode suivante :\n",
    "- `__str__` :\n",
    "    - Elle n'a pas d'argument.\n",
    "    - Elle retourne une chaine de caractères qui décrit la collection des villes."
   ]
  },
  {
   "cell_type": "code",
   "execution_count": 157,
   "metadata": {},
   "outputs": [],
   "source": [
    "class Villes:\n",
    "    def __init__(self):\n",
    "        self.liste=[]\n",
    "    def __len__(self):\n",
    "        return len(self.liste)\n",
    "    def __iadd__(self, autre_ville):\n",
    "        self.liste.append(autre_ville)\n",
    "        return self\n",
    "    def __str__(self):\n",
    "        for i in self.liste:\n",
    "            print(i)\n",
    "        return \"\""
   ]
  },
  {
   "cell_type": "code",
   "execution_count": 158,
   "metadata": {},
   "outputs": [],
   "source": [
    "# Créer une collection de deux villes\n",
    "villes=Villes()\n",
    "v1 = Ville('Tokyo',20,13)\n",
    "villes += v1\n",
    "v2 = Ville('Paris',30,15)\n",
    "villes += v2"
   ]
  },
  {
   "cell_type": "code",
   "execution_count": 159,
   "metadata": {},
   "outputs": [
    {
     "name": "stdout",
     "output_type": "stream",
     "text": [
      "le nom de ville est Tokyo et son indice est 20 et sa population est 13\n",
      "le nom de ville est Paris et son indice est 30 et sa population est 15\n",
      "\n"
     ]
    }
   ],
   "source": [
    "# Afficher la collection des villes\n",
    "print(villes)\n"
   ]
  }
 ],
 "metadata": {
  "kernelspec": {
   "display_name": "venv_ds",
   "language": "python",
   "name": "python3"
  },
  "language_info": {
   "codemirror_mode": {
    "name": "ipython",
    "version": 3
   },
   "file_extension": ".py",
   "mimetype": "text/x-python",
   "name": "python",
   "nbconvert_exporter": "python",
   "pygments_lexer": "ipython3",
   "version": "3.10.11"
  }
 },
 "nbformat": 4,
 "nbformat_minor": 2
}
